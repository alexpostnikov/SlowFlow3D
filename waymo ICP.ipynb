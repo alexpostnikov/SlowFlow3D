{
 "cells": [
  {
   "cell_type": "code",
   "execution_count": 3,
   "id": "379b353f",
   "metadata": {},
   "outputs": [],
   "source": [
    "import sys\n",
    "import numpy as np\n",
    "import torch \n",
    "\n",
    "import pygicp\n",
    "import matplotlib.pyplot as plt\n",
    "from matplotlib.pyplot import figure\n",
    "import time\n",
    "import open3d as o3d\n",
    "\n",
    "from visualization.util import predict_and_store_flows, flows_exist, get_transfmat_by_points"
   ]
  },
  {
   "cell_type": "code",
   "execution_count": 139,
   "id": "9489c1c8",
   "metadata": {},
   "outputs": [],
   "source": [
    "from data.WaymoDataset import WaymoDataset\n",
    "from data.util import drop_points_function\n",
    "from data.preprocess import points_in_boxes\n",
    "\n",
    "\n",
    "from typing import Tuple\n",
    "import matplotlib.pyplot as plt\n",
    "%matplotlib inline"
   ]
  },
  {
   "cell_type": "code",
   "execution_count": null,
   "id": "dcbfb7fa",
   "metadata": {},
   "outputs": [],
   "source": [
    "def compute_relative_translation_error(gt_translation: np.ndarray, est_translation: np.ndarray):\n",
    "    r\"\"\"Compute the isotropic Relative Translation Error.\n",
    "\n",
    "    RTE = \\lVert t - \\bar{t} \\rVert_2\n",
    "\n",
    "    Args:\n",
    "        gt_translation (array): ground truth translation vector (3,)\n",
    "        est_translation (array): estimated translation vector (3,)\n",
    "\n",
    "    Returns:\n",
    "        rte (float): relative translation error.\n",
    "    \"\"\"\n",
    "    return np.linalg.norm(gt_translation - est_translation)\n",
    "\n",
    "\n",
    "\n",
    "def compute_relative_rotation_error(gt_rotation: np.ndarray, est_rotation: np.ndarray):\n",
    "    r\"\"\"Compute the isotropic Relative Rotation Error.\n",
    "\n",
    "    RRE = acos((trace(R^T \\cdot \\bar{R}) - 1) / 2)\n",
    "\n",
    "    Args:\n",
    "        gt_rotation (array): ground truth rotation matrix (3, 3)\n",
    "        est_rotation (array): estimated rotation matrix (3, 3)\n",
    "\n",
    "    Returns:\n",
    "        rre (float): relative rotation error.\n",
    "    \"\"\"\n",
    "    x = 0.5 * (np.trace(np.matmul(est_rotation.T, gt_rotation)) - 1.0)\n",
    "    x = np.clip(x, -1.0, 1.0)\n",
    "    x = np.arccos(x)\n",
    "    rre = 180.0 * x / np.pi\n",
    "    return rre\n",
    "\n",
    "\n",
    "\n",
    "def get_rotation_translation_from_transform(transform: np.ndarray) -> Tuple[np.ndarray, np.ndarray]:\n",
    "    r\"\"\"Get rotation matrix and translation vector from rigid transform matrix.\n",
    "\n",
    "    Args:\n",
    "        transform (array): (4, 4)\n",
    "\n",
    "    Returns:\n",
    "        rotation (array): (3, 3)\n",
    "        translation (array): (3,)\n",
    "    \"\"\"\n",
    "    rotation = transform[:3, :3]\n",
    "    translation = transform[:3, 3]\n",
    "    return rotation, translation\n",
    "\n",
    "def compute_registration_error(gt_transform: np.ndarray, est_transform: np.ndarray):\n",
    "    r\"\"\"Compute the isotropic Relative Rotation Error and Relative Translation Error.\n",
    "\n",
    "    Args:\n",
    "        gt_transform (array): ground truth transformation matrix (4, 4)\n",
    "        est_transform (array): estimated transformation matrix (4, 4)\n",
    "\n",
    "    Returns:\n",
    "        rre (float): relative rotation error.\n",
    "        rte (float): relative translation error.\n",
    "    \"\"\"\n",
    "    gt_rotation, gt_translation = get_rotation_translation_from_transform(gt_transform)\n",
    "    est_rotation, est_translation = get_rotation_translation_from_transform(est_transform)\n",
    "    rre = compute_relative_rotation_error(gt_rotation, est_rotation)\n",
    "    rte = compute_relative_translation_error(gt_translation, est_translation)\n",
    "    return rre, rte\n"
   ]
  },
  {
   "cell_type": "code",
   "execution_count": 5,
   "id": "8c31371d",
   "metadata": {},
   "outputs": [],
   "source": [
    "data_dir = \"/media/robot/hdd/waymo_open_dataset_scene_flow/train_prep\"\n",
    "waymo_dataset = WaymoDataset(data_dir)"
   ]
  },
  {
   "cell_type": "code",
   "execution_count": 6,
   "id": "f33339be",
   "metadata": {},
   "outputs": [],
   "source": [
    "waymo_dataset.return_boxes = True"
   ]
  },
  {
   "cell_type": "code",
   "execution_count": 7,
   "id": "2f5b6434",
   "metadata": {},
   "outputs": [],
   "source": [
    "config_info = {}\n",
    "config_info[\"grid_cell_size\"] = {\"value\": 0.33203125}\n",
    "config_info[\"x_min\"] = {\"value\": -85}\n",
    "config_info[\"x_max\"] = {\"value\": 85}\n",
    "config_info[\"y_min\"] = {\"value\": -85}\n",
    "config_info[\"y_max\"] = {\"value\": 85}\n",
    "config_info[\"z_min\"] = {\"value\": -3}\n",
    "config_info[\"z_max\"] = {\"value\": 3}\n",
    "config_info[\"n_pillars_x\"] = {\"value\": 512}\n",
    "config_info[\"n_pillars_y\"] = {\"value\": 512}\n",
    "\n",
    "grid_cell_size = config_info['grid_cell_size']['value']\n",
    "x_min = config_info['x_min']['value']\n",
    "y_min = config_info['y_min']['value']\n",
    "z_min = config_info['z_min']['value']\n",
    "x_max = config_info['x_max']['value']\n",
    "y_max = config_info['y_max']['value']\n",
    "z_max = config_info['z_max']['value']\n",
    "n_pillars_x = config_info['n_pillars_x']['value']\n",
    "n_pillars_y = config_info['n_pillars_y']['value']\n",
    "# point_cloud_transform = ApplyPillarization(grid_cell_size=grid_cell_size, x_min=x_min,\n",
    "#                                            y_min=y_min, z_min=z_min, z_max=z_max, n_pillars_x=n_pillars_x)\n",
    "\n",
    "# waymo_dataset.set_point_cloud_transform(point_cloud_transform)\n",
    "drop_points = drop_points_function(x_min=x_min,\n",
    "                                            x_max=x_max, y_min=y_min, y_max=y_max,\n",
    "                                            z_min=z_min, z_max=z_max)\n",
    "waymo_dataset.set_drop_invalid_point_function(drop_points)\n"
   ]
  },
  {
   "cell_type": "code",
   "execution_count": null,
   "id": "fb4696cf",
   "metadata": {
    "scrolled": false
   },
   "outputs": [],
   "source": []
  },
  {
   "cell_type": "code",
   "execution_count": 147,
   "id": "f4296d5a",
   "metadata": {},
   "outputs": [
    {
     "name": "stdout",
     "output_type": "stream",
     "text": [
      "ICP mean disp error: 0.230, mean angular error: 0.632\n",
      "GT mean disp error: 0.135, mean angular error: 0.003\n"
     ]
    }
   ],
   "source": [
    "rres = []\n",
    "rrts = []\n",
    "gt_disp_linear = []\n",
    "gt_disp_ang = []\n",
    "for offset in range(100):\n",
    "    (previous_frame, current_frame), flows, c_bbox, p_bbox, c_ids, p_ids = waymo_dataset[300+offset]\n",
    "    for counter, id_ in enumerate(c_ids):\n",
    "        # get current PC inside given bbox[id]\n",
    "        cp = current_frame[0][:, :3][points_in_boxes(c_bbox[counter][None], current_frame[0])]\n",
    "        if cp.shape[0] < 200:\n",
    "            continue\n",
    "        if id_ not in p_ids:\n",
    "            continue\n",
    "        \n",
    "        # get previous PC with the same bbox id\n",
    "        cpp = previous_frame[0][:, :3][points_in_boxes(p_bbox[(id_ == p_ids).argmax()][None], previous_frame[0])]\n",
    "        \n",
    "        # get GT transf max from bbox\n",
    "        tr_mat = get_transfmat_by_points(c_bbox[counter], p_bbox[(id_ == p_ids).argmax()])\n",
    "        \n",
    "        # allign with ICP\n",
    "        matrix = pygicp.align_points(cpp.astype(\"float64\"), cp.astype(\"float64\"))\n",
    "        \n",
    "        # get and store registration errors\n",
    "        rre, rrt = compute_registration_error(tr_mat, matrix)\n",
    "        rres.append(rre)\n",
    "        rrts.append(rrt)\n",
    "        \n",
    "        # get and store GT displacement of bbox\n",
    "        rre, rrt = compute_registration_error(tr_mat, np.eye(4))\n",
    "        gt_disp_linear.append(rrt)\n",
    "        gt_disp_ang.append(rre)\n",
    "\n",
    "rrts = np.array(rrts)\n",
    "rres = np.array(rres)\n",
    "\n",
    "gt_disp_linear = np.array(gt_disp_linear)\n",
    "gt_disp_ang = np.array(gt_disp_ang)\n",
    "\n",
    "print(f\"ICP mean disp error: {rrts.mean():0.3f}, mean angular error: {rres.mean():0.3f}\")\n",
    "print(f\"GT mean disp error: {gt_disp_linear.mean():0.3f}, mean angular error: {gt_disp_ang.mean():0.3f}\")"
   ]
  },
  {
   "cell_type": "code",
   "execution_count": 172,
   "id": "628a476c",
   "metadata": {},
   "outputs": [
    {
     "data": {
      "image/png": "[encoded data removed]",
      "text/plain": [
       "<Figure size 640x480 with 1 Axes>"
      ]
     },
     "metadata": {},
     "output_type": "display_data"
    }
   ],
   "source": [
    "import matplotlib.pyplot as plt\n",
    "import numpy as np\n",
    "\n",
    "x = np.array([0,1,2,3])\n",
    "y = np.array([0.655, 0.660, 0.675, 0.685])\n",
    "my_xticks = ['a', 'b', 'c', 'd']\n",
    "plt.yticks(y, my_xticks)\n",
    "y = np.array([0.650, 0.660, 0.675, 0.685])\n",
    "# plt.yticks(np.arange(y.min(), y.max(), 0.005))\n",
    "plt.plot(x, y)\n",
    "plt.grid(axis='y', linestyle='-')\n",
    "plt.show()"
   ]
  },
  {
   "cell_type": "code",
   "execution_count": 186,
   "id": "1520ee6a",
   "metadata": {},
   "outputs": [
    {
     "data": {
      "image/png": "[encoded data removed]",
      "text/plain": [
       "<Figure size 640x480 with 1 Axes>"
      ]
     },
     "metadata": {},
     "output_type": "display_data"
    }
   ],
   "source": [
    "bins_cap, _, _ = plt.hist(rrts, bins=100)\n",
    "# a.max()/len(rrts)\n",
    "y_ticks =  [f\"{bin_cap/len(rrts):0.2f}\" for bin_cap in bins_cap]\n",
    "plt.yticks(bins_cap[:5], y_ticks[:5])\n",
    "pass\n"
   ]
  },
  {
   "cell_type": "code",
   "execution_count": 149,
   "id": "323f5508",
   "metadata": {},
   "outputs": [
    {
     "data": {
      "image/png": "[encoded data removed]",
      "text/plain": [
       "<Figure size 640x480 with 1 Axes>"
      ]
     },
     "metadata": {},
     "output_type": "display_data"
    },
    {
     "data": {
      "image/png": "[encoded data removed]",
      "text/plain": [
       "<Figure size 640x480 with 1 Axes>"
      ]
     },
     "metadata": {},
     "output_type": "display_data"
    }
   ],
   "source": [
    "plt.hist(rrts, bins=100)\n",
    "plt.title(\"relative translational error\")\n",
    "plt.show()\n",
    "plt.hist(rres, bins=100)\n",
    "plt.title(\"relative rotational error (degrees)\")\n",
    "plt.show()"
   ]
  },
  {
   "cell_type": "code",
   "execution_count": null,
   "id": "81321225",
   "metadata": {},
   "outputs": [],
   "source": []
  },
  {
   "cell_type": "code",
   "execution_count": 50,
   "id": "bcaca353",
   "metadata": {},
   "outputs": [],
   "source": []
  },
  {
   "cell_type": "code",
   "execution_count": 41,
   "id": "fa7d2dc0",
   "metadata": {},
   "outputs": [
    {
     "data": {
      "text/plain": [
       "(1.6020301705071074, 0.2929952388696535)"
      ]
     },
     "execution_count": 41,
     "metadata": {},
     "output_type": "execute_result"
    }
   ],
   "source": [
    "matrix = pygicp.align_points(cp.astype(\"float64\"), cpp.astype(\"float64\"))\n",
    "compute_registration_error(matrix, tr_mat)"
   ]
  },
  {
   "cell_type": "code",
   "execution_count": 154,
   "id": "5fe4bc98",
   "metadata": {},
   "outputs": [],
   "source": [
    "cpp_clone = np.copy(cpp+0)\n",
    "cpp_clone[:,0] = 0\n",
    "# cpp_clone[:,1] = 0\n",
    "pcd_bboxes = o3d.geometry.PointCloud()\n",
    "pcd_bboxes.points = o3d.utility.Vector3dVector(cpp)\n",
    "pcd_bboxes.paint_uniform_color([0.1, 0.1, 0.7])\n",
    "o3d.visualization.draw_geometries([pcd_bboxes])"
   ]
  },
  {
   "cell_type": "code",
   "execution_count": 155,
   "id": "f39af0c2",
   "metadata": {},
   "outputs": [],
   "source": [
    "\n"
   ]
  },
  {
   "cell_type": "code",
   "execution_count": null,
   "id": "a9e243f5",
   "metadata": {},
   "outputs": [],
   "source": []
  },
  {
   "cell_type": "code",
   "execution_count": 160,
   "id": "a6fc7b26",
   "metadata": {},
   "outputs": [],
   "source": [
    "from sklearn.cluster import KMeans\n",
    "n_clusters = 10\n",
    "kmeans = KMeans(n_clusters=n_clusters, random_state=0).fit(cpp_clone[:,(0,2)])\n",
    "ind = kmeans.predict(cpp_clone[:,(0,2)])"
   ]
  },
  {
   "cell_type": "code",
   "execution_count": 166,
   "id": "e8267c53",
   "metadata": {},
   "outputs": [
    {
     "data": {
      "text/plain": [
       "[48, 38, 47, 14, 48, 51, 30, 35, 13, 8]"
      ]
     },
     "execution_count": 166,
     "metadata": {},
     "output_type": "execute_result"
    }
   ],
   "source": [
    "# number of points in each cluster\n",
    "[(ind==i).sum() for i in range(n_clusters)]"
   ]
  },
  {
   "cell_type": "code",
   "execution_count": 164,
   "id": "596c61f1",
   "metadata": {},
   "outputs": [],
   "source": [
    "# visualize 1) full PC  2) PC without one cluster\n",
    "pcs = []\n",
    "for i in range(n_clusters):\n",
    "    pcd_bboxes = o3d.geometry.PointCloud()\n",
    "    if i == 0:\n",
    "        continue\n",
    "    pcd_bboxes.points = o3d.utility.Vector3dVector(cpp[ind==i])\n",
    "    pcd_bboxes.paint_uniform_color([i/10, 0.5+i/20, 0.5+i/20])\n",
    "    pcs.append(pcd_bboxes)\n",
    "pcd_bboxes = o3d.geometry.PointCloud()\n",
    "pcd_bboxes.points = o3d.utility.Vector3dVector(cpp+np.array([0,0,2.5]))\n",
    "pcd_bboxes.paint_uniform_color([0.2, 0, 0])\n",
    "pcs.append(pcd_bboxes)\n",
    "o3d.visualization.draw_geometries(pcs)"
   ]
  },
  {
   "cell_type": "code",
   "execution_count": null,
   "id": "022dffaf",
   "metadata": {},
   "outputs": [],
   "source": []
  }
 ],
 "metadata": {
  "kernelspec": {
   "display_name": "Python 3 (ipykernel)",
   "language": "python",
   "name": "python3"
  },
  "language_info": {
   "codemirror_mode": {
    "name": "ipython",
    "version": 3
   },
   "file_extension": ".py",
   "mimetype": "text/x-python",
   "name": "python",
   "nbconvert_exporter": "python",
   "pygments_lexer": "ipython3",
   "version": "3.8.3"
  }
 },
 "nbformat": 4,
 "nbformat_minor": 5
}
