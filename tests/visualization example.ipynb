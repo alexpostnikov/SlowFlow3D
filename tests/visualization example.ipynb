{
 "cells": [
  {
   "cell_type": "code",
   "execution_count": 1,
   "id": "21ab7d2c",
   "metadata": {},
   "outputs": [],
   "source": [
    "import sys\n",
    "sys.path.insert(0,'../')"
   ]
  },
  {
   "cell_type": "code",
   "execution_count": 2,
   "id": "a7741b3b",
   "metadata": {},
   "outputs": [
    {
     "name": "stdout",
     "output_type": "stream",
     "text": [
      "Jupyter environment detected. Enabling Open3D WebVisualizer.\n",
      "[Open3D INFO] WebRTC GUI backend enabled.\n",
      "[Open3D INFO] WebRTCWindowSystem: HTTP handshake server disabled.\n"
     ]
    }
   ],
   "source": [
    "import yaml\n",
    "import open3d as o3d\n",
    "import numpy as np\n",
    "from data.WaymoDataset import WaymoDataset\n",
    "from data.util import ApplyPillarization, drop_points_function\n",
    "from utils import str2bool\n",
    "from visualization.util import predict_and_store_flows, flows_exist\n",
    "from models.FastFlow3DModelScatter import FastFlow3DModelScatter\n",
    "\n",
    "from data.preprocess import points_in_boxes"
   ]
  },
  {
   "cell_type": "code",
   "execution_count": 3,
   "id": "6ee7c993",
   "metadata": {},
   "outputs": [],
   "source": [
    "data_dir = \"/media/robot/hdd/waymo_open_dataset_scene_flow/train_prep\""
   ]
  },
  {
   "cell_type": "code",
   "execution_count": 4,
   "id": "e33c5b2b",
   "metadata": {},
   "outputs": [],
   "source": [
    "waymo_dataset = WaymoDataset(data_dir)"
   ]
  },
  {
   "cell_type": "code",
   "execution_count": 5,
   "id": "3c6a3ead",
   "metadata": {},
   "outputs": [],
   "source": [
    "waymo_dataset.return_boxes = True"
   ]
  },
  {
   "cell_type": "code",
   "execution_count": 6,
   "id": "a514f5dd",
   "metadata": {},
   "outputs": [],
   "source": [
    "config_info = {}\n",
    "config_info[\"grid_cell_size\"] = {\"value\": 0.33203125}\n",
    "config_info[\"x_min\"] = {\"value\": -85}\n",
    "config_info[\"x_max\"] = {\"value\": 85}\n",
    "config_info[\"y_min\"] = {\"value\": -85}\n",
    "config_info[\"y_max\"] = {\"value\": 85}\n",
    "config_info[\"z_min\"] = {\"value\": -3}\n",
    "config_info[\"z_max\"] = {\"value\": 3}\n",
    "config_info[\"n_pillars_x\"] = {\"value\": 512}\n",
    "config_info[\"n_pillars_y\"] = {\"value\": 512}"
   ]
  },
  {
   "cell_type": "code",
   "execution_count": 7,
   "id": "b6d242ec",
   "metadata": {},
   "outputs": [],
   "source": [
    "def text_3d(text, pos, direction=None, degree=0.0, font='DejaVu Sans Mono for Powerline.ttf', font_size=16):\n",
    "    \"\"\"\n",
    "    Generate a 3D text point cloud used for visualization.\n",
    "    :param text: content of the text\n",
    "    :param pos: 3D xyz position of the text upper left corner\n",
    "    :param direction: 3D normalized direction of where the text faces\n",
    "    :param degree: in plane rotation of text\n",
    "    :param font: Name of the font - change it according to your system\n",
    "    :param font_size: size of the font\n",
    "    :return: o3d.geoemtry.PointCloud object\n",
    "    \"\"\"\n",
    "    if direction is None:\n",
    "        direction = (0., 0., 1.)\n",
    "\n",
    "    from PIL import Image, ImageFont, ImageDraw\n",
    "    from pyquaternion import Quaternion\n",
    "#     ImageFont.truetype(, 15)\n",
    "    font_obj = ImageFont.truetype(\"arial.ttf\", font_size)\n",
    "    font_dim = font_obj.getsize(text)\n",
    "\n",
    "    img = Image.new('RGB', font_dim, color=(255, 255, 255))\n",
    "    draw = ImageDraw.Draw(img)\n",
    "    draw.text((0, 0), text, font=font_obj, fill=(0, 0, 0))\n",
    "    img = np.asarray(img)\n",
    "    img_mask = img[:, :, 0] < 128\n",
    "    indices = np.indices([*img.shape[0:2], 1])[:, img_mask, 0].reshape(3, -1).T\n",
    "\n",
    "    pcd = o3d.geometry.PointCloud()\n",
    "    pcd.colors = o3d.utility.Vector3dVector(img[img_mask, :].astype(float) / 255.0)\n",
    "    pcd.points = o3d.utility.Vector3dVector(indices / 100.0)\n",
    "\n",
    "    raxis = np.cross([0.0, 0.0, 1.0], direction)\n",
    "    if np.linalg.norm(raxis) < 1e-6:\n",
    "        raxis = (0.0, 0.0, 1.0)\n",
    "    trans = (Quaternion(axis=raxis, radians=np.arccos(direction[2])) *\n",
    "             Quaternion(axis=direction, degrees=degree)).transformation_matrix\n",
    "    trans[0:3, 3] = np.asarray(pos)\n",
    "    pcd.transform(trans)\n",
    "    return pcd"
   ]
  },
  {
   "cell_type": "code",
   "execution_count": 8,
   "id": "d5dd178f",
   "metadata": {},
   "outputs": [],
   "source": [
    "# grid_cell_size = config_info['grid_cell_size']['value']\n",
    "# x_min = config_info['x_min']['value']\n",
    "# y_min = config_info['y_min']['value']\n",
    "# z_min = config_info['z_min']['value']\n",
    "# x_max = config_info['x_max']['value']\n",
    "# y_max = config_info['y_max']['value']\n",
    "# z_max = config_info['z_max']['value']\n",
    "# n_pillars_x = config_info['n_pillars_x']['value']\n",
    "# n_pillars_y = config_info['n_pillars_y']['value']\n",
    "# point_cloud_transform = ApplyPillarization(grid_cell_size=grid_cell_size, x_min=x_min,\n",
    "#                                            y_min=y_min, z_min=z_min, z_max=z_max, n_pillars_x=n_pillars_x)\n",
    "\n",
    "# waymo_dataset.set_point_cloud_transform(point_cloud_transform)\n",
    "# drop_points_function = drop_points_function(x_min=x_min,\n",
    "#                                             x_max=x_max, y_min=y_min, y_max=y_max,\n",
    "#                                             z_min=z_min, z_max=z_max)\n",
    "# waymo_dataset.set_drop_invalid_point_function(drop_points_function)"
   ]
  },
  {
   "cell_type": "markdown",
   "id": "fb84b181",
   "metadata": {},
   "source": [
    "### Load data"
   ]
  },
  {
   "cell_type": "code",
   "execution_count": 9,
   "id": "c9a1e2e0",
   "metadata": {},
   "outputs": [],
   "source": [
    "data = waymo_dataset[100]"
   ]
  },
  {
   "cell_type": "code",
   "execution_count": 10,
   "id": "20b507b0",
   "metadata": {},
   "outputs": [],
   "source": [
    "(previous_frame, current_frame), flows, current_bbox, previous_bbox, current_ind, previous_ind = data"
   ]
  },
  {
   "cell_type": "code",
   "execution_count": 11,
   "id": "6acf725e",
   "metadata": {},
   "outputs": [],
   "source": [
    "prev_points = previous_frame[0][:, 0:3]\n",
    "cur_points = current_frame[0][:, 0:3]"
   ]
  },
  {
   "cell_type": "markdown",
   "id": "5f0e241d",
   "metadata": {},
   "source": [
    "### Create lables (bbox ids) to be visualized"
   ]
  },
  {
   "cell_type": "code",
   "execution_count": 12,
   "id": "83ac1d78",
   "metadata": {},
   "outputs": [],
   "source": [
    "\n",
    "labels = []\n",
    "for label, bbox in zip(current_ind, current_bbox):\n",
    "    labels.append(text_3d(label, bbox[0]))\n",
    "\n",
    "    "
   ]
  },
  {
   "cell_type": "markdown",
   "id": "ac370eac",
   "metadata": {},
   "source": [
    "### Create o3d bboxes to be visualized"
   ]
  },
  {
   "cell_type": "code",
   "execution_count": 13,
   "id": "37aca57c",
   "metadata": {},
   "outputs": [],
   "source": [
    "line_sets = []\n",
    "lines = [[0, 1], [1, 2], [2, 3], [0, 3],\n",
    "                 [4, 5], [5, 6], [6, 7], [4, 7],\n",
    "                 [0, 4], [1, 5], [2, 6], [3, 7]]\n",
    "\n",
    "# Use the same color for all lines\n",
    "colors = [[0, 1, 0] for _ in range(len(lines))]\n",
    "\n",
    "for corner_box in current_bbox:\n",
    "    line_set = o3d.geometry.LineSet()\n",
    "    line_set.points = o3d.utility.Vector3dVector(corner_box)\n",
    "    line_set.lines = o3d.utility.Vector2iVector(lines)\n",
    "    line_set.colors = o3d.utility.Vector3dVector(colors)\n",
    "    line_sets.append(line_set)"
   ]
  },
  {
   "cell_type": "markdown",
   "id": "1702f34c",
   "metadata": {},
   "source": [
    "### Get pointClouds only inside bboxes"
   ]
  },
  {
   "cell_type": "code",
   "execution_count": 14,
   "id": "874b15e0",
   "metadata": {},
   "outputs": [],
   "source": [
    "cutted_points = cur_points[:, :3][points_in_boxes(current_bbox, cur_points)]"
   ]
  },
  {
   "cell_type": "markdown",
   "id": "6e7068a5",
   "metadata": {},
   "source": [
    "### Visualize"
   ]
  },
  {
   "cell_type": "code",
   "execution_count": 15,
   "id": "0a4987d9",
   "metadata": {},
   "outputs": [],
   "source": [
    "pcd_bboxes = o3d.geometry.PointCloud()\n",
    "pcd_bboxes.points = o3d.utility.Vector3dVector(cutted_points)\n",
    "pcd_bboxes.paint_uniform_color([0.1, 0.1, 0.7])\n",
    "full_pc =  o3d.geometry.PointCloud()\n",
    "full_pc.points = o3d.utility.Vector3dVector(cur_points)\n",
    "full_pc.paint_uniform_color([0.7, 0.1, 0.1])\n",
    "o3d.visualization.draw_geometries([full_pc, *labels, *line_sets, pcd_bboxes,])"
   ]
  },
  {
   "cell_type": "code",
   "execution_count": null,
   "id": "a76fe593",
   "metadata": {},
   "outputs": [],
   "source": []
  }
 ],
 "metadata": {
  "kernelspec": {
   "display_name": "Python 3 (ipykernel)",
   "language": "python",
   "name": "python3"
  },
  "language_info": {
   "codemirror_mode": {
    "name": "ipython",
    "version": 3
   },
   "file_extension": ".py",
   "mimetype": "text/x-python",
   "name": "python",
   "nbconvert_exporter": "python",
   "pygments_lexer": "ipython3",
   "version": "3.8.3"
  }
 },
 "nbformat": 4,
 "nbformat_minor": 5
}
